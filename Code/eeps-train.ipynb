{
 "cells": [
  {
   "cell_type": "code",
   "execution_count": 3,
   "id": "3db56ad2-fa96-4aba-8f28-ce63194d4d40",
   "metadata": {},
   "outputs": [],
   "source": [
    "import tensorflow as tf\n",
    "import numpy as np \n",
    "import pandas as pd \n",
    "import os\n",
    "\n",
    "import matplotlib.pyplot as plt\n",
    "import csv\n",
    "import itertools\n",
    "import collections\n",
    "\n",
    "import pywt\n",
    "from scipy import stats\n",
    "\n",
    "from sklearn.utils import resample\n",
    "from sklearn.model_selection import train_test_split\n",
    "\n",
    "import keras\n",
    "from keras.models import Sequential\n",
    "from keras.layers import Conv1D, AvgPool1D, Flatten, Dense, Dropout, Softmax\n",
    "from keras.optimizers import Adam \n",
    "from tensorflow.keras.utils import to_categorical\n",
    "from tensorflow.keras.utils import plot_model\n",
    "from keras import regularizers\n",
    "\n",
    "\n",
    "%matplotlib inline"
   ]
  },
  {
   "cell_type": "markdown",
   "id": "2000a11a-5838-4b20-a8cd-e4b5c6beaba0",
   "metadata": {},
   "source": [
    "### key"
   ]
  },
  {
   "cell_type": "code",
   "execution_count": 5,
   "id": "9a0c160d",
   "metadata": {},
   "outputs": [],
   "source": [
    "import edgeimpulse as ei\n",
    "ei.API_KEY = \"your_api_key\""
   ]
  },
  {
   "cell_type": "markdown",
   "id": "55131ef0-96b0-4824-8e4e-fa4389a29a74",
   "metadata": {},
   "source": [
    "### data processing"
   ]
  },
  {
   "cell_type": "code",
   "execution_count": 6,
   "id": "ec464895",
   "metadata": {},
   "outputs": [],
   "source": [
    "import my_func\n",
    "data_proc()"
   ]
  },
  {
   "cell_type": "markdown",
   "id": "b676f5cd-83a7-42bb-b318-dafcbcc59150",
   "metadata": {},
   "source": [
    "### data load"
   ]
  },
  {
   "cell_type": "code",
   "execution_count": 7,
   "id": "2db25779",
   "metadata": {},
   "outputs": [],
   "source": [
    "train_x = np.load('train_x.npy')\n",
    "train_y = np.load('train_y.npy')\n",
    "test_x = np.load('test_x.npy')\n",
    "test_y = np.load('test_y.npy')"
   ]
  },
  {
   "cell_type": "markdown",
   "id": "9de05312-06e1-45ed-9921-3822f3179ea1",
   "metadata": {},
   "source": [
    "### model architecture"
   ]
  },
  {
   "cell_type": "code",
   "execution_count": 8,
   "id": "edb1d658",
   "metadata": {},
   "outputs": [
    {
     "name": "stdout",
     "output_type": "stream",
     "text": [
      "Model: \"model\"\n",
      "__________________________________________________________________________________________________\n",
      " Layer (type)                   Output Shape         Param #     Connected to                     \n",
      "==================================================================================================\n",
      " input_1 (InputLayer)           [(None, 260, 1)]     0           []                               \n",
      "                                                                                                  \n",
      " conv1d (Conv1D)                (None, 51, 16)       176         ['input_1[0][0]']                \n",
      "                                                                                                  \n",
      " max_pooling1d (MaxPooling1D)   (None, 25, 16)       0           ['conv1d[0][0]']                 \n",
      "                                                                                                  \n",
      " conv1d_1 (Conv1D)              (None, 7, 16)        1296        ['max_pooling1d[0][0]']          \n",
      "                                                                                                  \n",
      " max_pooling1d_1 (MaxPooling1D)  (None, 6, 16)       0           ['conv1d_1[0][0]']               \n",
      "                                                                                                  \n",
      " flatten (Flatten)              (None, 96)           0           ['max_pooling1d_1[0][0]']        \n",
      "                                                                                                  \n",
      " dense (Dense)                  (None, 16)           1552        ['flatten[0][0]']                \n",
      "                                                                                                  \n",
      " dense_1 (Dense)                (None, 5)            85          ['dense[0][0]']                  \n",
      "                                                                                                  \n",
      " concatenate (Concatenate)      (None, 21)           0           ['dense[0][0]',                  \n",
      "                                                                  'dense_1[0][0]']                \n",
      "                                                                                                  \n",
      "==================================================================================================\n",
      "Total params: 3,109\n",
      "Trainable params: 3,109\n",
      "Non-trainable params: 0\n",
      "__________________________________________________________________________________________________\n"
     ]
    }
   ],
   "source": [
    "import tensorflow as tf\n",
    "from tensorflow.keras import layers, Model\n",
    "from tensorflow.keras.layers import Concatenate\n",
    "\n",
    "# 输入形状，通道数为1\n",
    "inputs = tf.keras.Input(shape=(260, 1))\n",
    "\n",
    "# 卷积层\n",
    "conv1 = layers.Conv1D(16, 10, strides=5, padding='valid', activation='linear')(inputs)\n",
    "pool1 = layers.MaxPooling1D(2, strides=2)(conv1)\n",
    "\n",
    "conv2 = layers.Conv1D(16, 5, strides=3, padding='valid', activation='linear')(pool1)\n",
    "pool2 = layers.MaxPooling1D(2, strides=1)(conv2)\n",
    "\n",
    "flatten = layers.Flatten()(pool2)\n",
    "\n",
    "# 全连接层\n",
    "dense1 = layers.Dense(16, activation='relu')(flatten)\n",
    "dense2 = layers.Dense(5, activation='softmax')(dense1)\n",
    "\n",
    "# 合并层\n",
    "merged_output = Concatenate()([dense1, dense2])\n",
    "\n",
    "# 构建模型，现在有一个合并后的输出\n",
    "model = Model(inputs=inputs, outputs=merged_output)\n",
    "\n",
    "model.compile(optimizer='adam', loss='categorical_crossentropy', metrics=['accuracy'])\n",
    "model.summary()\n"
   ]
  },
  {
   "cell_type": "markdown",
   "id": "9bebe2f6-1221-4136-9b9d-dba94c4ce0b9",
   "metadata": {},
   "source": [
    "### loss & accuracy"
   ]
  },
  {
   "cell_type": "code",
   "execution_count": 9,
   "id": "1010adc8",
   "metadata": {},
   "outputs": [],
   "source": [
    "import tensorflow as tf\n",
    "from tensorflow.keras import layers, Model\n",
    "from tensorflow.keras.losses import CategoricalCrossentropy\n",
    "\n",
    "# Hypothetical model definition (unchanged)\n",
    "# ...\n",
    "\n",
    "# Custom loss function\n",
    "def custom_loss(y_true, y_pred):\n",
    "    # Separate the last 5 dimensions corresponding to the classification task\n",
    "    y_pred_classification = y_pred[:, -5:]\n",
    "    y_true_classification = y_true[:, -5:]\n",
    "    # Compute the loss for the classification task\n",
    "    loss = CategoricalCrossentropy(from_logits=False)(y_true_classification, y_pred_classification)\n",
    "    return loss\n",
    "\n",
    "def custom_accuracy(y_true, y_pred):\n",
    "    # Extract the actual classification labels from the extended y_true\n",
    "    y_true_classification = y_true[:, -5:]\n",
    "    # Extract the classification output part from the model's predictions\n",
    "    y_pred_classification = y_pred[:, -5:]\n",
    "    # Calculate the proportion of correct predictions\n",
    "    correct_prediction = tf.equal(tf.argmax(y_true_classification, axis=1), tf.argmax(y_pred_classification, axis=1))\n",
    "    accuracy = tf.reduce_mean(tf.cast(correct_prediction, tf.float32))\n",
    "    return accuracy\n",
    "\n",
    "# Compile the model using the custom loss function and accuracy metric\n",
    "model.compile(optimizer='adam', loss=custom_loss, metrics=[custom_accuracy])"
   ]
  },
  {
   "cell_type": "code",
   "execution_count": 10,
   "id": "550a8d93-411a-4116-ab74-85256ffd8dbb",
   "metadata": {},
   "outputs": [
    {
     "name": "stdout",
     "output_type": "stream",
     "text": [
      "Epoch 1/30\n",
      "67/67 [==============================] - 8s 14ms/step - loss: 1.2458 - custom_accuracy: 0.5077 - val_loss: 0.8825 - val_custom_accuracy: 0.7150\n",
      "Epoch 2/30\n",
      "67/67 [==============================] - 1s 9ms/step - loss: 0.6872 - custom_accuracy: 0.7672 - val_loss: 0.5014 - val_custom_accuracy: 0.8377\n",
      "Epoch 3/30\n",
      "67/67 [==============================] - 1s 10ms/step - loss: 0.4496 - custom_accuracy: 0.8534 - val_loss: 0.3719 - val_custom_accuracy: 0.8892\n",
      "Epoch 4/30\n",
      "67/67 [==============================] - 1s 9ms/step - loss: 0.3474 - custom_accuracy: 0.8953 - val_loss: 0.2989 - val_custom_accuracy: 0.9156\n",
      "Epoch 5/30\n",
      "67/67 [==============================] - 1s 10ms/step - loss: 0.2878 - custom_accuracy: 0.9180 - val_loss: 0.2649 - val_custom_accuracy: 0.9269\n",
      "Epoch 6/30\n",
      "67/67 [==============================] - 1s 9ms/step - loss: 0.2559 - custom_accuracy: 0.9265 - val_loss: 0.2420 - val_custom_accuracy: 0.9347\n",
      "Epoch 7/30\n",
      "67/67 [==============================] - 1s 9ms/step - loss: 0.2362 - custom_accuracy: 0.9322 - val_loss: 0.2252 - val_custom_accuracy: 0.9373\n",
      "Epoch 8/30\n",
      "67/67 [==============================] - 1s 9ms/step - loss: 0.2178 - custom_accuracy: 0.9368 - val_loss: 0.2182 - val_custom_accuracy: 0.9381\n",
      "Epoch 9/30\n",
      "67/67 [==============================] - 1s 9ms/step - loss: 0.2067 - custom_accuracy: 0.9401 - val_loss: 0.2095 - val_custom_accuracy: 0.9398\n",
      "Epoch 10/30\n",
      "67/67 [==============================] - 1s 9ms/step - loss: 0.1991 - custom_accuracy: 0.9429 - val_loss: 0.1967 - val_custom_accuracy: 0.9436\n",
      "Epoch 11/30\n",
      "67/67 [==============================] - 1s 9ms/step - loss: 0.1915 - custom_accuracy: 0.9442 - val_loss: 0.1880 - val_custom_accuracy: 0.9454\n",
      "Epoch 12/30\n",
      "67/67 [==============================] - 1s 11ms/step - loss: 0.1800 - custom_accuracy: 0.9471 - val_loss: 0.1814 - val_custom_accuracy: 0.9471\n",
      "Epoch 13/30\n",
      "67/67 [==============================] - 1s 10ms/step - loss: 0.1769 - custom_accuracy: 0.9474 - val_loss: 0.1830 - val_custom_accuracy: 0.9483\n",
      "Epoch 14/30\n",
      "67/67 [==============================] - 1s 11ms/step - loss: 0.1673 - custom_accuracy: 0.9486 - val_loss: 0.1829 - val_custom_accuracy: 0.9484\n",
      "Epoch 15/30\n",
      "67/67 [==============================] - 1s 10ms/step - loss: 0.1637 - custom_accuracy: 0.9507 - val_loss: 0.1724 - val_custom_accuracy: 0.9512\n",
      "Epoch 16/30\n",
      "67/67 [==============================] - 1s 11ms/step - loss: 0.1612 - custom_accuracy: 0.9507 - val_loss: 0.1650 - val_custom_accuracy: 0.9529\n",
      "Epoch 17/30\n",
      "67/67 [==============================] - 1s 11ms/step - loss: 0.1559 - custom_accuracy: 0.9532 - val_loss: 0.1706 - val_custom_accuracy: 0.9535\n",
      "Epoch 18/30\n",
      "67/67 [==============================] - 1s 11ms/step - loss: 0.1510 - custom_accuracy: 0.9521 - val_loss: 0.1661 - val_custom_accuracy: 0.9508\n",
      "Epoch 19/30\n",
      "67/67 [==============================] - 1s 9ms/step - loss: 0.1486 - custom_accuracy: 0.9548 - val_loss: 0.1569 - val_custom_accuracy: 0.9532\n",
      "Epoch 20/30\n",
      "67/67 [==============================] - 1s 10ms/step - loss: 0.1489 - custom_accuracy: 0.9546 - val_loss: 0.1552 - val_custom_accuracy: 0.9560\n",
      "Epoch 21/30\n",
      "67/67 [==============================] - 1s 9ms/step - loss: 0.1394 - custom_accuracy: 0.9563 - val_loss: 0.1530 - val_custom_accuracy: 0.9565\n",
      "Epoch 22/30\n",
      "67/67 [==============================] - 1s 9ms/step - loss: 0.1345 - custom_accuracy: 0.9578 - val_loss: 0.1433 - val_custom_accuracy: 0.9579\n",
      "Epoch 23/30\n",
      "67/67 [==============================] - 1s 10ms/step - loss: 0.1337 - custom_accuracy: 0.9583 - val_loss: 0.1517 - val_custom_accuracy: 0.9576\n",
      "Epoch 24/30\n",
      "67/67 [==============================] - 1s 9ms/step - loss: 0.1330 - custom_accuracy: 0.9585 - val_loss: 0.1454 - val_custom_accuracy: 0.9575\n",
      "Epoch 25/30\n",
      "67/67 [==============================] - 1s 10ms/step - loss: 0.1319 - custom_accuracy: 0.9594 - val_loss: 0.1442 - val_custom_accuracy: 0.9581\n",
      "Epoch 26/30\n",
      "67/67 [==============================] - 1s 9ms/step - loss: 0.1264 - custom_accuracy: 0.9604 - val_loss: 0.1482 - val_custom_accuracy: 0.9589\n",
      "Epoch 27/30\n",
      "67/67 [==============================] - 1s 9ms/step - loss: 0.1292 - custom_accuracy: 0.9586 - val_loss: 0.1378 - val_custom_accuracy: 0.9579\n",
      "Epoch 28/30\n",
      "67/67 [==============================] - 1s 11ms/step - loss: 0.1226 - custom_accuracy: 0.9610 - val_loss: 0.1373 - val_custom_accuracy: 0.9613\n",
      "Epoch 29/30\n",
      "67/67 [==============================] - 1s 9ms/step - loss: 0.1193 - custom_accuracy: 0.9617 - val_loss: 0.1386 - val_custom_accuracy: 0.9591\n",
      "Epoch 30/30\n",
      "67/67 [==============================] - 1s 11ms/step - loss: 0.1176 - custom_accuracy: 0.9621 - val_loss: 0.1350 - val_custom_accuracy: 0.9622\n"
     ]
    }
   ],
   "source": [
    "# Assume train_y and test_y are already in one-hot encoded format\n",
    "num_samples_train = train_y.shape[0]\n",
    "num_samples_test = test_y.shape[0]\n",
    "\n",
    "# Create new labels, pad the first 16 dimensions with zeros and use the original classification labels for the last 5 dimensions\n",
    "train_y_expanded = tf.concat([tf.zeros((num_samples_train, 16)), train_y], axis=1)\n",
    "test_y_expanded = tf.concat([tf.zeros((num_samples_test, 16)), test_y], axis=1)\n",
    "\n",
    "# Train the model using the expanded labels\n",
    "history = model.fit(train_x, train_y_expanded, batch_size=300, epochs=30, verbose=1, validation_data=(test_x, test_y_expanded))\n"
   ]
  },
  {
   "cell_type": "code",
   "execution_count": 11,
   "id": "ee47ff65-1d94-4f85-b71b-d9ccf2f62965",
   "metadata": {},
   "outputs": [
    {
     "data": {
      "image/png": "[encoded data removed]",
      "text/plain": [
       "<Figure size 3000x600 with 1 Axes>"
      ]
     },
     "metadata": {},
     "output_type": "display_data"
    }
   ],
   "source": [
    "# summarize history for loss\n",
    "plt.plot(history.history['loss'])\n",
    "plt.plot(history.history['val_loss'])\n",
    "plt.title('model loss')\n",
    "plt.ylabel('loss')\n",
    "plt.xlabel('epoch')\n",
    "plt.legend(['train', 'test'], loc='upper left')\n",
    "plt.show()"
   ]
  },
  {
   "cell_type": "code",
   "execution_count": 12,
   "id": "dda11531-1f3f-437e-be2a-bc947e9cc639",
   "metadata": {},
   "outputs": [
    {
     "data": {
      "image/png": "[encoded data removed]",
      "text/plain": [
       "<Figure size 3000x600 with 1 Axes>"
      ]
     },
     "metadata": {},
     "output_type": "display_data"
    }
   ],
   "source": [
    "# summarize history for accuracy\n",
    "plt.plot(history.history['custom_accuracy'])\n",
    "plt.plot(history.history['val_custom_accuracy'])\n",
    "plt.title('model accuracy')\n",
    "plt.ylabel('accuracy')\n",
    "plt.xlabel('epoch')\n",
    "plt.legend(['train', 'test'], loc='upper left')\n",
    "plt.show()\n"
   ]
  },
  {
   "cell_type": "code",
   "execution_count": 13,
   "id": "769c1872-27b1-4671-80b3-9031e5b24ec3",
   "metadata": {},
   "outputs": [
    {
     "name": "stdout",
     "output_type": "stream",
     "text": [
      "157/157 [==============================] - 1s 5ms/step - loss: 0.1350 - custom_accuracy: 0.9618\n",
      "Test Loss: 0.1349959373474121\n",
      "Test accuracy: 0.9617834687232971\n"
     ]
    }
   ],
   "source": [
    "score = model.evaluate(test_x, test_y)\n",
    "print('Test Loss:', score[0])\n",
    "print('Test accuracy:', score[1])"
   ]
  },
  {
   "cell_type": "code",
   "execution_count": 14,
   "id": "e7fe0954-da12-473e-b41b-310363606240",
   "metadata": {},
   "outputs": [
    {
     "data": {
      "text/plain": [
       "['alif-he',\n",
       " 'alif-hp',\n",
       " 'arduino-nano-33-ble',\n",
       " 'arduino-nicla-vision',\n",
       " 'portenta-h7',\n",
       " 'brainchip-akd1000',\n",
       " 'brickml',\n",
       " 'cortex-m4f-80mhz',\n",
       " 'cortex-m7-216mhz',\n",
       " 'espressif-esp32',\n",
       " 'himax-we-i',\n",
       " 'infineon-cy8ckit-062s2',\n",
       " 'infineon-cy8ckit-062-ble',\n",
       " 'mbp-16-2020',\n",
       " 'memryx-mx3',\n",
       " 'nordic-nrf52840-dk',\n",
       " 'nordic-nrf5340-dk',\n",
       " 'nordic-nrf9160-dk',\n",
       " 'jetson-nano',\n",
       " 'jetson-orin-nx',\n",
       " 'jetson-orin-nano',\n",
       " 'openmv-h7p',\n",
       " 'particle-p2',\n",
       " 'raspberry-pi-4',\n",
       " 'raspberry-pi-rp2040',\n",
       " 'renesas-ck-ra6m5',\n",
       " 'renesas-ek-ra8d1',\n",
       " 'renesas-rzg2l',\n",
       " 'renesas-rzv2l-cpu',\n",
       " 'renesas-rzv2l',\n",
       " 'st-iot-discovery-kit',\n",
       " 'seeed-sense-cap',\n",
       " 'wio-terminal',\n",
       " 'seeed-vision-ai',\n",
       " 'silabs-xg24',\n",
       " 'silabs-thunderboard-sense-2',\n",
       " 'sony-spresense',\n",
       " 'synaptics-ka10000',\n",
       " 'ti-am62a',\n",
       " 'ti-am68a',\n",
       " 'ti-launchxl',\n",
       " 'ti-tda4vm',\n",
       " 'neox']"
      ]
     },
     "execution_count": 14,
     "metadata": {},
     "output_type": "execute_result"
    }
   ],
   "source": [
    "ei.model.list_profile_devices()"
   ]
  },
  {
   "cell_type": "code",
   "execution_count": 15,
   "id": "4c53231e",
   "metadata": {},
   "outputs": [
    {
     "name": "stderr",
     "output_type": "stream",
     "text": [
      "WARNING:absl:Found untraced functions such as _jit_compiled_convolution_op, _jit_compiled_convolution_op while saving (showing 2 of 2). These functions will not be directly callable after loading.\n"
     ]
    },
    {
     "name": "stdout",
     "output_type": "stream",
     "text": [
      "INFO:tensorflow:Assets written to: C:\\Users\\ADMINI~1\\AppData\\Local\\Temp\\tmpv51ivys3\\saved_model\\assets\n"
     ]
    },
    {
     "name": "stderr",
     "output_type": "stream",
     "text": [
      "INFO:tensorflow:Assets written to: C:\\Users\\ADMINI~1\\AppData\\Local\\Temp\\tmpv51ivys3\\saved_model\\assets\n"
     ]
    },
    {
     "name": "stdout",
     "output_type": "stream",
     "text": [
      "Target results for float32:\n",
      "===========================\n",
      "{\n",
      "    \"device\": \"arduino-nano-33-ble\",\n",
      "    \"tfliteFileSizeBytes\": 17692,\n",
      "    \"isSupportedOnMcu\": true,\n",
      "    \"memory\": {\n",
      "        \"tflite\": {\n",
      "            \"ram\": 13492,\n",
      "            \"rom\": 68664,\n",
      "            \"arenaSize\": 13100\n",
      "        },\n",
      "        \"eon\": {\n",
      "            \"ram\": 9000,\n",
      "            \"rom\": 39896\n",
      "        }\n",
      "    },\n",
      "    \"timePerInferenceMs\": 102\n",
      "}\n",
      "\n",
      "\n",
      "Performance on device types:\n",
      "============================\n",
      "{\n",
      "    \"variant\": \"float32\",\n",
      "    \"lowEndMcu\": {\n",
      "        \"description\": \"Estimate for a Cortex-M0+ or similar, running at 40MHz\",\n",
      "        \"timePerInferenceMs\": 270,\n",
      "        \"memory\": {\n",
      "            \"tflite\": {\n",
      "                \"ram\": 13339,\n",
      "                \"rom\": 56872\n",
      "            },\n",
      "            \"eon\": {\n",
      "                \"ram\": 8888,\n",
      "                \"rom\": 36632\n",
      "            }\n",
      "        },\n",
      "        \"supported\": true\n",
      "    },\n",
      "    \"highEndMcu\": {\n",
      "        \"description\": \"Estimate for a Cortex-M7 or other high-end MCU/DSP, running at 240MHz\",\n",
      "        \"timePerInferenceMs\": 4,\n",
      "        \"memory\": {\n",
      "            \"tflite\": {\n",
      "                \"ram\": 13492,\n",
      "                \"rom\": 68664\n",
      "            },\n",
      "            \"eon\": {\n",
      "                \"ram\": 9000,\n",
      "                \"rom\": 39896\n",
      "            }\n",
      "        },\n",
      "        \"supported\": true\n",
      "    },\n",
      "    \"highEndMcuPlusAccelerator\": {\n",
      "        \"description\": \"Most accelerators only accelerate quantized models.\",\n",
      "        \"timePerInferenceMs\": 4,\n",
      "        \"memory\": {\n",
      "            \"tflite\": {\n",
      "                \"ram\": 13492,\n",
      "                \"rom\": 68664\n",
      "            },\n",
      "            \"eon\": {\n",
      "                \"ram\": 9000,\n",
      "                \"rom\": 39896\n",
      "            }\n",
      "        },\n",
      "        \"supported\": true\n",
      "    },\n",
      "    \"mpu\": {\n",
      "        \"description\": \"Estimate for a Cortex-A72, x86 or other mid-range microprocessor running at 1.5GHz\",\n",
      "        \"timePerInferenceMs\": 1,\n",
      "        \"rom\": 17692.0,\n",
      "        \"supported\": true\n",
      "    },\n",
      "    \"gpuOrMpuAccelerator\": {\n",
      "        \"description\": \"Estimate for a GPU or high-end neural network accelerator\",\n",
      "        \"timePerInferenceMs\": 1,\n",
      "        \"rom\": 17692.0,\n",
      "        \"supported\": true\n",
      "    }\n",
      "}\n",
      "None\n"
     ]
    }
   ],
   "source": [
    "try:\n",
    "    profile = ei.model.profile(model=model, device='arduino-nano-33-ble')\n",
    "    print(profile.summary())\n",
    "except Exception as e:\n",
    "    print(f\"Could not profile:{e}\")"
   ]
  },
  {
   "cell_type": "code",
   "execution_count": 16,
   "id": "026510d8",
   "metadata": {},
   "outputs": [
    {
     "data": {
      "text/plain": [
       "['zip',\n",
       " 'arduino',\n",
       " 'tinkergen',\n",
       " 'cubemx',\n",
       " 'wasm',\n",
       " 'wasm-browser-simd',\n",
       " 'wasm-node-simd',\n",
       " 'tensorrt',\n",
       " 'ethos',\n",
       " 'synaptics-tensaiflow-lib',\n",
       " 'drp-ai-lib',\n",
       " 'meta-tf',\n",
       " 'tidl-lib',\n",
       " 'memryx-dfp',\n",
       " 'tidl-lib-am62a',\n",
       " 'tidl-lib-am68a',\n",
       " 'slcc',\n",
       " 'disco-l475vg',\n",
       " 'arduino-nano-33-ble-sense',\n",
       " 'arduino-nicla-vision',\n",
       " 'runner-linux-aarch64-advantech-icam540',\n",
       " 'espressif-esp32',\n",
       " 'raspberry-pi-rp2040',\n",
       " 'arduino-portenta-h7',\n",
       " 'silabs-thunderboard2',\n",
       " 'silabs-xg24',\n",
       " 'himax-we-i',\n",
       " 'himax-we-i-gnu',\n",
       " 'infineon-cy8ckit-062s2',\n",
       " 'infineon-cy8ckit-062-ble',\n",
       " 'nordic-nrf52840-dk',\n",
       " 'nordic-nrf5340-dk',\n",
       " 'nordic-nrf9160-dk',\n",
       " 'nordic-thingy53',\n",
       " 'nordic-thingy53-nrf7002eb',\n",
       " 'nordic-thingy91',\n",
       " 'nordic-nrf7002-dk',\n",
       " 'openmv',\n",
       " 'openmv-fw',\n",
       " 'sony-spresense',\n",
       " 'sony-spresense-commonsense',\n",
       " 'ti-launchxl',\n",
       " 'synaptics-ka10000',\n",
       " 'renesas-ck-ra6m5',\n",
       " 'brickml',\n",
       " 'brickml-module',\n",
       " 'renesas-ek-ra8d1',\n",
       " 'alif-ensemble-e7',\n",
       " 'seeed-grove-vision-ai',\n",
       " 'seeed-sensecap',\n",
       " 'runner-linux-aarch64',\n",
       " 'runner-linux-armv7',\n",
       " 'runner-linux-x86_64',\n",
       " 'runner-linux-aarch64-akd1000',\n",
       " 'runner-linux-x86_64-akd1000',\n",
       " 'runner-linux-x86_64-memryx-mx3',\n",
       " 'runner-mac-x86_64',\n",
       " 'runner-linux-aarch64-rzv2l',\n",
       " 'runner-linux-aarch64-tda4vm',\n",
       " 'runner-linux-aarch64-am62a',\n",
       " 'particle',\n",
       " 'iar',\n",
       " 'runner-linux-aarch64-am68a',\n",
       " 'particle-p2',\n",
       " 'cmsis-package',\n",
       " 'runner-linux-aarch64-jetson-nano',\n",
       " 'runner-linux-aarch64-rzg2l',\n",
       " 'runner-linux-aarch64-jetson-orin']"
      ]
     },
     "execution_count": 16,
     "metadata": {},
     "output_type": "execute_result"
    }
   ],
   "source": [
    "ei.model.list_deployment_targets()"
   ]
  },
  {
   "cell_type": "code",
   "execution_count": 17,
   "id": "054c7fec",
   "metadata": {},
   "outputs": [
    {
     "name": "stderr",
     "output_type": "stream",
     "text": [
      "WARNING:absl:Found untraced functions such as _jit_compiled_convolution_op, _jit_compiled_convolution_op while saving (showing 2 of 2). These functions will not be directly callable after loading.\n"
     ]
    },
    {
     "name": "stdout",
     "output_type": "stream",
     "text": [
      "INFO:tensorflow:Assets written to: C:\\Users\\ADMINI~1\\AppData\\Local\\Temp\\tmpb2u1pelg\\saved_model\\assets\n"
     ]
    },
    {
     "name": "stderr",
     "output_type": "stream",
     "text": [
      "INFO:tensorflow:Assets written to: C:\\Users\\ADMINI~1\\AppData\\Local\\Temp\\tmpb2u1pelg\\saved_model\\assets\n"
     ]
    }
   ],
   "source": [
    "try:\n",
    "    ei.model.deploy(model=model,\n",
    "                    model_output_type=ei.model.output_type.Classification(),\n",
    "                    deploy_target = 'arduino',\n",
    "                    output_directory=\".\")\n",
    "except Exception as e:\n",
    "    print(f\"Could not deploy: {e}\")"
   ]
  },
  {
   "cell_type": "code",
   "execution_count": null,
   "id": "d70cf75d",
   "metadata": {},
   "outputs": [],
   "source": []
  }
 ],
 "metadata": {
  "kernelspec": {
   "display_name": "Python 3 (ipykernel)",
   "language": "python",
   "name": "python3"
  },
  "language_info": {
   "codemirror_mode": {
    "name": "ipython",
    "version": 3
   },
   "file_extension": ".py",
   "mimetype": "text/x-python",
   "name": "python",
   "nbconvert_exporter": "python",
   "pygments_lexer": "ipython3",
   "version": "3.8.19"
  }
 },
 "nbformat": 4,
 "nbformat_minor": 5
}
